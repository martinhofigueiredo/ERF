{
 "cells": [
  {
   "cell_type": "markdown",
   "metadata": {},
   "source": [
    "# Design of a Stepped impedance low-pass filter\n",
    "\n",
    "## SPECS\n",
    "- __Maximally Flat__\n",
    "- Stepped Impedance:\n",
    "   - $Z_{Low} = 10 \\Omega$\n",
    "   - $Z_{High} = 150 \\Omega$ \n",
    "- Substrate:\n",
    "   - GIL Technologies GML-1000\n",
    "      - $H = 0.762$\n",
    "      - $E_r = 3.2$\n",
    "      - $\\tan_d = 0.003$\n",
    "- Order of the Filter: __7__ $^{nth}$ \n",
    "- Cut-off Frequency: $f_c=2.0\\ GHz$\n",
    "\n"
   ]
  },
  {
   "cell_type": "markdown",
   "metadata": {},
   "source": [
    "$$ \\left\\lvert\\frac{w}{w_c}\\right\\rvert - 1 = 0.1N ,\\ N = 7\\ e\\ w_c = 2\\cdot\\pi\\cdot\\ 2\\ GHz$$\n",
    "\n",
    "$$ \\frac{w}{2\\cdot\\pi\\cdot\\ 2\\ GHz} = 0.7 + 1 $$\n",
    "\n",
    "$$ w = "
   ]
  },
  {
   "cell_type": "code",
   "execution_count": 69,
   "metadata": {},
   "outputs": [
    {
     "name": "stdout",
     "output_type": "stream",
     "text": [
      "Requirement already satisfied: numpy in /home/gitpod/.pyenv/versions/3.8.13/lib/python3.8/site-packages (1.23.4)\n",
      "\n",
      "\u001b[1m[\u001b[0m\u001b[34;49mnotice\u001b[0m\u001b[1;39;49m]\u001b[0m\u001b[39;49m A new release of pip available: \u001b[0m\u001b[31;49m22.2.2\u001b[0m\u001b[39;49m -> \u001b[0m\u001b[32;49m22.3.1\u001b[0m\n",
      "\u001b[1m[\u001b[0m\u001b[34;49mnotice\u001b[0m\u001b[1;39;49m]\u001b[0m\u001b[39;49m To update, run: \u001b[0m\u001b[32;49mpip install --upgrade pip\u001b[0m\n"
     ]
    }
   ],
   "source": [
    "!pip install numpy\n",
    "import numpy as np\n",
    "z_high = 150\n",
    "z_low = 10\n",
    "H = 0.762\n",
    "E_r = 3.2\n",
    "tan_d = 0.003\n",
    "n = 7\n",
    "f_c = 2e9\n",
    "w_c = f_c * 2 * np.pi\n",
    "R_0 = 50\n",
    "lightspeed = 3e8 #approximation \n",
    "wavelength = vc/ f_c"
   ]
  },
  {
   "cell_type": "code",
   "execution_count": 20,
   "metadata": {},
   "outputs": [
    {
     "name": "stdout",
     "output_type": "stream",
     "text": [
      "Freq Attenuation is more than 20dB: 3.400000e+09 Hz\n",
      "                                  : 2.136283e+10 rad/s\n"
     ]
    }
   ],
   "source": [
    "\n",
    "attenuation_w  =  ((n/10)+1 )* w_c #Quando a atenuação e maior que 20dB \n",
    "attenuation_f  =  ((n/10)+1 )* f_c #Quando a atenuação e maior que 20dB \n",
    "\n",
    "print(f\"Freq Attenuation is more than 20dB: {attenuation_f:e} Hz\")\n",
    "print(f\"                                  : {attenuation_w:e} rad/s\")\n"
   ]
  },
  {
   "cell_type": "markdown",
   "metadata": {},
   "source": [
    "Since our filter is maximally flat we will use the values from the table provided in slide 17 of _Microwave Filter Design 2_\n",
    "\n",
    "|$N$| $g_0$| $g_1$| $g_2$| $g_3$| $g_4$| $g_5$| $g_6$| $g_7$| $g_8$|\n",
    "|---|------|------|------|------|------|------|------|------|------|\n",
    "|...|  ... |  ... |  ... |  ... |  ... |  ... |  ... |  ... |  ... |\n",
    "| 7 |1.0000|0.4450|1.2470|1.8019|2.0000|1.8019|1.2470|0.4450|1.0000|\n"
   ]
  },
  {
   "cell_type": "code",
   "execution_count": 105,
   "metadata": {},
   "outputs": [
    {
     "name": "stdout",
     "output_type": "stream",
     "text": [
      " \n",
      " \n",
      "C1 = 7.082e-13 F\n",
      "C2 = 2.868e-12 F\n",
      "C3 = 2.868e-12 F\n",
      "C4 = 7.082e-13 F\n",
      " \n",
      "L1 = 4.962e-09 H\n",
      "L2 = 7.958e-09 H\n",
      "L3 = 4.962e-09 H\n",
      " \n",
      "beta = 41.888\n",
      "wavelength = 0.150\n",
      " \n",
      "Lengh 1 = 2.125e-03 m\n",
      "Lengh 2 = 9.923e-03 m\n",
      "Lengh 3 = 8.603e-03 m\n",
      "Lengh 4 = 1.592e-02 m\n",
      "Lengh 5 = 8.603e-03 m\n",
      "Lengh 6 = 9.923e-03 m\n",
      "Lengh 7 = 2.125e-03 m\n"
     ]
    }
   ],
   "source": [
    "g_list = [1.0000, 0.4450, 1.2470, 1.8019, 2.0000, 1.8019, 1.2470, 0.4450, 1.0000]\n",
    "C_list = []\n",
    "L_list = []\n",
    "i = 0\n",
    "for g in g_list:\n",
    "    if(i <= 0 or i==n+1):\n",
    "        print(\" \")\n",
    "        #print(\"Do Nothing\") \n",
    "    elif(i % 2 == 0 and i > 0):\n",
    "        #print(\"par\")\n",
    "        L_list.append((R_0*g)/w_c)\n",
    "    elif(i % 2 == 1 and i > 0):\n",
    "        #print(\"impar\")\n",
    "        C_list.append(g/(R_0*w_c))\n",
    "    #print(g)\n",
    "    #print(f\"i={i}\")\n",
    "    i+=1\n",
    "\n",
    "i = 1\n",
    "for c in C_list:\n",
    "    print(f\"C{i} = {c:.3e} F\")\n",
    "    i+=1\n",
    "i=1\n",
    "print(\" \")\n",
    "for l in L_list:\n",
    "    print(f\"L{i} = {l:.3e} H\")\n",
    "    i+=1\n",
    "print(\" \")\n",
    "beta = (2*np.pi)/wavelength\n",
    "print(f\"{beta = :.3f}\")\n",
    "print(f\"{wavelength = :.3f}\")\n",
    "microstrip_l_list = []\n",
    "i = 0\n",
    "for g in g_list:\n",
    "    if(i % 2 == 0 and i >= 1 and i <= n):\n",
    "        print(f\"Bobine\")    \n",
    "        microstrip_l_list.append(((g*R_0)/z_high)/beta)\n",
    "    if(i % 2 == 1 and i >= 1 and i <= n):\n",
    "        #print(\"Condensador\")\n",
    "        microstrip_l_list.append(((g*z_low)/R_0)/beta)\n",
    "    i+=1\n",
    "\n",
    "i=1\n",
    "print(\" \")\n",
    "for l in microstrip_l_list:\n",
    "    print(f\"Lengh {i} = {l:.3e} m\")\n",
    "    i+=1"
   ]
  }
 ],
 "metadata": {
  "kernelspec": {
   "display_name": "Python 3",
   "language": "python",
   "name": "python3"
  },
  "language_info": {
   "codemirror_mode": {
    "name": "ipython",
    "version": 3
   },
   "file_extension": ".py",
   "mimetype": "text/x-python",
   "name": "python",
   "nbconvert_exporter": "python",
   "pygments_lexer": "ipython3",
   "version": "3.8.13"
  },
  "orig_nbformat": 4,
  "vscode": {
   "interpreter": {
    "hash": "9ac03a0a6051494cc606d484d27d20fce22fb7b4d169f583271e11d5ba46a56e"
   }
  }
 },
 "nbformat": 4,
 "nbformat_minor": 2
}
