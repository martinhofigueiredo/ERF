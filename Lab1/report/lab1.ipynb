{
 "cells": [
  {
   "cell_type": "markdown",
   "metadata": {},
   "source": [
    "# ERF Relatorio 6 Out\n",
    ">Martinho Figueiredo (up201506179)\n",
    ">\n",
    ">José Pedro Cruz (up201504646)"
   ]
  },
  {
   "cell_type": "markdown",
   "metadata": {},
   "source": [
    "## Abstrato\n",
    "\n",
    "Este trabalho serve como introdução ai _software_ __ADS__, para desenho e analise de sistemas de radiofrequência e microondas.\n",
    "Para tal, iremos adaptar duas cargas a configuraçoes de linha diferentes, utilizabdo a ferramenta _Line Calc_ para obter as dimensões fisicas da _microstrip line_ implementada.\n",
    "Usamos ainda o diagrama de Smith presente no programa para normalizar a carga da alinea 2.\n",
    "Obtivemos resultados favoraveis, que demonstram um alargamento da banda afectada em torno da frequência de funcionamento, com o acréscimo de secçoes de linha, sugerindo que estas introduzem sempre alguns pequenos defeitos que se acumulam.\n",
    "\n",
    "## Para uma secção de $\\lambda/4$, com $R_L = 200$\n",
    "\n",
    "Para este caso, primeiro calculamos a impedancia caracteristica da secçao de linha adaptada, $Z_{line}$.\n",
    " "
   ]
  },
  {
   "cell_type": "code",
   "execution_count": 2,
   "metadata": {},
   "outputs": [
    {
     "data": {
      "text/markdown": [
       "$$Z_0 = 50 \\Omega$$\n",
       "$$R_L = 200 \\Omega$$\n",
       "$$Z_{line} = \\sqrt{Z_{0} \\cdot R_{L}}= 100\\Omega$$\n",
       "$$\\lambda = 0.150m$$\n"
      ],
      "text/plain": [
       "<IPython.core.display.Markdown object>"
      ]
     },
     "execution_count": 2,
     "metadata": {},
     "output_type": "execute_result"
    }
   ],
   "source": [
    "import numpy as np\n",
    "from IPython.display import Markdown as md\n",
    "c = 3e8 #light speed\n",
    "f = 2e9 # 2GHz Operating frequency\n",
    "output = \"\"\n",
    "Z_0 = 50 #Characteristic impedance of line\n",
    "R_L = 200 #Load impedance\n",
    "Z_line = np.sqrt(Z_0*R_L)#impedance od microstrip  line\n",
    "e_r = 3.2\n",
    "wavlen = c/f\n",
    "output += f'$$Z_0 = {Z_0} \\Omega$$\\n'\n",
    "output += f'$$R_L = {R_L} \\Omega$$\\n'\n",
    "output += f'$$Z_{{line}} = \\sqrt{{Z_{{0}} \\cdot R_{{L}}}}= {Z_line:.0f}\\Omega$$\\n'\n",
    "\n",
    "output += f'$$\\lambda = {wavlen:.3f}m$$\\n'\n",
    "md(output)\n"
   ]
  },
  {
   "cell_type": "markdown",
   "metadata": {},
   "source": [
    "Utilizando estes valores no _Line Calc_, com $E_{Eff} = 90º$ ($\\lambda/4$ corresponde a $\\frac{360º}{4} = 90º$ ) e $Z_0 = Z_{line} = 100 \\Omega $\n",
    "obtivemos:\n",
    "\n",
    "![img1](media/1.0.png)\n"
   ]
  },
  {
   "cell_type": "code",
   "execution_count": 6,
   "metadata": {},
   "outputs": [
    {
     "data": {
      "text/markdown": [
       "$$W = 0.000478296 m$$\n",
       "$$L = 0.0244293 m$$\n"
      ],
      "text/plain": [
       "<IPython.core.display.Markdown object>"
      ]
     },
     "execution_count": 6,
     "metadata": {},
     "output_type": "execute_result"
    }
   ],
   "source": [
    "output = \"\"\n",
    "#FROM  ADS LINECALC\n",
    "#-----\n",
    "W = 0.478296e-3 #width \n",
    "L = 24.4293e-3 #Lenght\n",
    "#-----\n",
    "K_eff = 2.53\n",
    "A_DB = 0.017\n",
    "#-----\n",
    "output += f'$$W = {W} m$$\\n'\n",
    "output += f'$$L = {L} m$$\\n'\n",
    "md(output)\n",
    "\n",
    "\n"
   ]
  },
  {
   "cell_type": "code",
   "execution_count": 8,
   "metadata": {},
   "outputs": [
    {
     "data": {
      "text/markdown": [
       "$$Z_0 = 50 \\Omega$$\n",
       "$$R_L = (100+50j) \\Omega$$\n",
       "$$Z_{line} = \\sqrt{Z_{0} \\cdot R_{L}}= 73+17j\\Omega$$\n",
       "$$\\lambda = 0.150m$$\n"
      ],
      "text/plain": [
       "<IPython.core.display.Markdown object>"
      ]
     },
     "execution_count": 8,
     "metadata": {},
     "output_type": "execute_result"
    }
   ],
   "source": [
    "output = \"\"\n",
    "Z_0 = 50 #Characteristic impedance of line\n",
    "R_L = 100 + 50j #Load impedance\n",
    "Z_line = np.sqrt(Z_0*R_L)#impedance od microstrip  line\n",
    "e_r = 3.2\n",
    "wavlen = c/f\n",
    "output += f'$$Z_0 = {Z_0} \\Omega$$\\n'\n",
    "output += f'$$R_L = {R_L} \\Omega$$\\n'\n",
    "output += f'$$Z_{{line}} = \\sqrt{{Z_{{0}} \\cdot R_{{L}}}}= {Z_line:.0f}\\Omega$$\\n'\n",
    "\n",
    "output += f'$$\\lambda = {wavlen:.3f}m$$\\n'\n",
    "md(output)"
   ]
  }
 ],
 "metadata": {
  "kernelspec": {
   "display_name": "Python 3.8.10 64-bit",
   "language": "python",
   "name": "python3"
  },
  "language_info": {
   "codemirror_mode": {
    "name": "ipython",
    "version": 3
   },
   "file_extension": ".py",
   "mimetype": "text/x-python",
   "name": "python",
   "nbconvert_exporter": "python",
   "pygments_lexer": "ipython3",
   "version": "3.10.6"
  },
  "orig_nbformat": 4,
  "vscode": {
   "interpreter": {
    "hash": "31f2aee4e71d21fbe5cf8b01ff0e069b9275f58929596ceb00d14d90e3e16cd6"
   }
  }
 },
 "nbformat": 4,
 "nbformat_minor": 2
}
