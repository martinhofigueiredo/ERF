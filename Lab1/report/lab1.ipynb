{
 "cells": [
  {
   "cell_type": "markdown",
   "metadata": {},
   "source": [
    "# ERF Relatorio 6 Out\n",
    ">Martinho Figueiredo (up201506179)\n",
    ">\n",
    ">José Pedro Cruz (up201504646)"
   ]
  },
  {
   "cell_type": "markdown",
   "metadata": {},
   "source": [
    "## Abstrato\n",
    "\n",
    "Este trabalho serve como introdução ao _software_ __ADS__, para desenho e analise de sistemas de radiofrequência e microondas.\n",
    "Para tal, iremos adaptar duas cargas a configuraçoes de linha diferentes, utilizabdo a ferramenta _Line Calc_ para obter as dimensões fisicas da _microstrip line_ implementada.\n",
    "Usamos ainda o diagrama de Smith presente no programa para normalizar a carga da alinea 2.\n",
    "Obtivemos resultados favoraveis, que demonstram um alargamento da banda afectada em torno da frequência de funcionamento, com o acréscimo de secçoes de linha, sugerindo que estas introduzem sempre alguns pequenos defeitos que se acumulam.\n",
    "\n",
    "## Para uma secção de $\\lambda/4$, com $R_L = 200$\n",
    "\n",
    "Para este caso, primeiro calculamos a impedancia caracteristica da secçao de linha adaptada, $Z_{line}$.\n",
    " "
   ]
  },
  {
   "cell_type": "code",
   "execution_count": 1,
   "metadata": {},
   "outputs": [
    {
     "data": {
      "text/markdown": [
       "$$Z_0 = 50 \\Omega$$\n",
       "$$R_L = 200 \\Omega$$\n",
       "$$Z_{line} = \\sqrt{Z_{0} \\cdot R_{L}}= 100\\Omega$$\n",
       "$$\\lambda = 0.150m$$\n"
      ],
      "text/plain": [
       "<IPython.core.display.Markdown object>"
      ]
     },
     "execution_count": 1,
     "metadata": {},
     "output_type": "execute_result"
    }
   ],
   "source": [
    "import numpy as np\n",
    "from IPython.display import Markdown as md\n",
    "c = 3e8 #light speed\n",
    "f = 2e9 # 2GHz Operating frequency\n",
    "output = \"\"\n",
    "Z_0 = 50 #Characteristic impedance of line\n",
    "R_L = 200 #Load impedance\n",
    "Z_line = np.sqrt(Z_0*R_L)#impedance od microstrip  line\n",
    "e_r = 3.2 #from guide\n",
    "wavlen = c/f\n",
    "output += f'$$Z_0 = {Z_0} \\Omega$$\\n'\n",
    "output += f'$$R_L = {R_L} \\Omega$$\\n'\n",
    "output += f'$$Z_{{line}} = \\sqrt{{Z_{{0}} \\cdot R_{{L}}}}= {Z_line:.0f}\\Omega$$\\n'\n",
    "\n",
    "output += f'$$\\lambda = {wavlen:.3f}m$$\\n'\n",
    "md(output)\n"
   ]
  },
  {
   "cell_type": "markdown",
   "metadata": {},
   "source": [
    "Utilizando estes valores no _Line Calc_, com $E_{Eff} = 90º$ ($\\lambda/4$ corresponde a $\\frac{360º}{4} = 90º$ ) e $Z_0 = Z_{line} = 100 \\Omega $\n",
    "obtivemos:\n",
    "\n",
    "![img1](media/1.0.png)\n"
   ]
  },
  {
   "cell_type": "code",
   "execution_count": 2,
   "metadata": {},
   "outputs": [
    {
     "data": {
      "text/markdown": [
       "$$W = 0.000478296 m$$\n",
       "$$L = 0.0244293 m$$\n"
      ],
      "text/plain": [
       "<IPython.core.display.Markdown object>"
      ]
     },
     "execution_count": 2,
     "metadata": {},
     "output_type": "execute_result"
    }
   ],
   "source": [
    "output = \"\"\n",
    "#FROM  ADS LINECALC\n",
    "#-----\n",
    "W = 0.478296e-3 #width \n",
    "L = 24.4293e-3 #Lenght\n",
    "#-----\n",
    "K_eff = 2.53\n",
    "A_DB = 0.017\n",
    "#-----\n",
    "output += f'$$W = {W} m$$\\n'\n",
    "output += f'$$L = {L} m$$\\n'\n",
    "md(output)\n",
    "\n",
    "\n"
   ]
  },
  {
   "cell_type": "code",
   "execution_count": 3,
   "metadata": {},
   "outputs": [
    {
     "data": {
      "text/markdown": [
       "$$E_{ef} = 2.1079553921574252$$\n",
       "$$ B = 60.816205173346454$$\n",
       "$$Z_{in}= (2.534514689002848-58.4223992826539j)$$\n",
       "$$\\Gamma= (0.1489701539673856-0.9464102935128225j)$$\n",
       "$$\\Rho= 0.9580629157002651$$\n",
       "$$\\Theta= -81.05472667076315$$\n",
       "$$SwR= 46.69048762917084$$\n"
      ],
      "text/plain": [
       "<IPython.core.display.Markdown object>"
      ]
     },
     "execution_count": 3,
     "metadata": {},
     "output_type": "execute_result"
    }
   ],
   "source": [
    "#Depth of the substrate\n",
    "H = 0.762 #from the guide\n",
    "#Effective dielectric constant\n",
    "#l =1e-3 #1mm should be changed to L from ads\n",
    "e_ef = (e_r+1)/2+ (e_r-1)/2*1/np.sqrt(1+12*H/W)\n",
    "beta = 2*np.pi*f/(c)*np.sqrt(e_ef)\n",
    "Z_in = Z_line* (R_L+1j+Z_line*np.tan(beta*L))/(Z_line+1j*R_L*np.tan(beta*L))\n",
    "Gamma = (Z_in - Z_0)/(Z_in + Z_0)\n",
    "rho = np.abs(Gamma)\n",
    "theta = np.angle(Gamma)*180/np.pi\n",
    "SwR = (1 + rho)/(1 - rho)\n",
    "\n",
    "\n",
    "output=''\n",
    "output+=f'$$E_{{ef}} = {e_ef}$$\\n'\n",
    "output+=f'$$ B = {beta}$$\\n'\n",
    "output+=f'$$Z_{{in}}= {Z_in}$$\\n'\n",
    "output+=f'$$\\Gamma= {Gamma}$$\\n'\n",
    "output+=f'$$\\Rho= {rho}$$\\n'\n",
    "output+=f'$$\\Theta= {theta}$$\\n'\n",
    "output+=f'$$SwR= {SwR}$$\\n'\n",
    "md(output)"
   ]
  },
  {
   "cell_type": "markdown",
   "metadata": {},
   "source": [
    "![img2](media/1.1.png)"
   ]
  },
  {
   "cell_type": "markdown",
   "metadata": {},
   "source": [
    "# Para 3 Secçoes de Linha de $\\lambda/4$ de comprimento\n",
    "\n",
    "Utilizando a tabela da pag. 254 do livro \"Microwave Engineering\", vemos que $N=3$ porque temos 3 secções de linha.\n"
   ]
  },
  {
   "cell_type": "code",
   "execution_count": 4,
   "metadata": {},
   "outputs": [
    {
     "data": {
      "text/markdown": [
       "$$ R_{L}/{Z_0} = 4.0$$"
      ],
      "text/plain": [
       "<IPython.core.display.Markdown object>"
      ]
     },
     "execution_count": 4,
     "metadata": {},
     "output_type": "execute_result"
    }
   ],
   "source": [
    "output = f'$$ R_{{L}}/{{Z_0}} = {R_L/Z_0}$$'\n",
    "md(output)"
   ]
  },
  {
   "cell_type": "markdown",
   "metadata": {},
   "source": [
    "Para $N = 3$:\n",
    "\n",
    "||$\\frac{Z_1}{Z_0}$|$\\frac{Z_3}{Z_0}$|$\\frac{Z_3}{Z_0}$|\n",
    "|---|---|---|---|\n",
    "|$\\frac{R_L}{Z_0} = 4.0$|1.1907 |2.0000 |3.3594 |"
   ]
  },
  {
   "cell_type": "code",
   "execution_count": 5,
   "metadata": {},
   "outputs": [
    {
     "data": {
      "text/markdown": [
       "$$Z_1 = 59.535000000000004$$\n",
       "$$Z_2 = 100$$\n",
       "$$Z_3 = 167.97$$\n"
      ],
      "text/plain": [
       "<IPython.core.display.Markdown object>"
      ]
     },
     "execution_count": 5,
     "metadata": {},
     "output_type": "execute_result"
    }
   ],
   "source": [
    "Z_1 = 1.1907 * Z_0\n",
    "Z_2 = 2 * Z_0\n",
    "Z_3 = 3.3594 * Z_0\n",
    "\n",
    "output= \"\"\n",
    "output+=f'$$Z_1 = {Z_1}$$\\n'\n",
    "output+=f'$$Z_2 = {Z_2}$$\\n'\n",
    "output+=f'$$Z_3 = {Z_3}$$\\n'\n",
    "\n",
    "md(output)"
   ]
  },
  {
   "cell_type": "markdown",
   "metadata": {},
   "source": [
    "Usando estes valores no __ADS__ temos:\n",
    "![img3](media/2.0-corrigido.png)\n",
    "![img4](media/2.1-corrigido.png)\n",
    "![img5](media/2.2-corrigido.png)\n",
    "![img6](media/2.3-corrigido.png)"
   ]
  },
  {
   "cell_type": "markdown",
   "metadata": {},
   "source": [
    "## Para RL = 100+50J"
   ]
  },
  {
   "cell_type": "code",
   "execution_count": 6,
   "metadata": {},
   "outputs": [
    {
     "data": {
      "text/markdown": [
       "$$Z_0 = 50 \\Omega$$\n",
       "$$R_L = (100+50j) \\Omega$$\n",
       "$$Z_{line} = \\sqrt{Z_{0} \\cdot R_{L}}= 73+17j\\Omega$$\n",
       "$$\\lambda = 0.150m$$\n"
      ],
      "text/plain": [
       "<IPython.core.display.Markdown object>"
      ]
     },
     "execution_count": 6,
     "metadata": {},
     "output_type": "execute_result"
    }
   ],
   "source": [
    "output = \"\"\n",
    "Z_0 = 50 #Characteristic impedance of line\n",
    "R_L = 100 + 50j #Load impedance\n",
    "Z_line = np.sqrt(Z_0*R_L)#impedance od microstrip  line\n",
    "e_r = 3.2\n",
    "wavlen = c/f\n",
    "\n",
    "output += f'$$Z_0 = {Z_0} \\Omega$$\\n'\n",
    "output += f'$$R_L = {R_L} \\Omega$$\\n'\n",
    "output += f'$$Z_{{line}} = \\sqrt{{Z_{{0}} \\cdot R_{{L}}}}= {Z_line:.0f}\\Omega$$\\n'\n",
    "\n",
    "output += f'$$\\lambda = {wavlen:.3f}m$$\\n'\n",
    "md(output)"
   ]
  }
 ],
 "metadata": {
  "kernelspec": {
   "display_name": "Python 3.8.10 64-bit",
   "language": "python",
   "name": "python3"
  },
  "language_info": {
   "codemirror_mode": {
    "name": "ipython",
    "version": 3
   },
   "file_extension": ".py",
   "mimetype": "text/x-python",
   "name": "python",
   "nbconvert_exporter": "python",
   "pygments_lexer": "ipython3",
   "version": "3.10.6"
  },
  "orig_nbformat": 4,
  "vscode": {
   "interpreter": {
    "hash": "31f2aee4e71d21fbe5cf8b01ff0e069b9275f58929596ceb00d14d90e3e16cd6"
   }
  }
 },
 "nbformat": 4,
 "nbformat_minor": 2
}
