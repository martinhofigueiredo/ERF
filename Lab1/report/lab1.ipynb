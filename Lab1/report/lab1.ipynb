{
 "cells": [
  {
   "cell_type": "markdown",
   "metadata": {},
   "source": [
    "# Relatorio Lab1  \n",
    "## Trabalho Prático n. 1\n",
    "### Adaptação de impedância com linha 7/4\n",
    "1. Adapte uma carga de $200\\Omega $ a uma linha com impedância característica de $50\\Omega $\n",
    "frequência de fiuncionamento 2 GHZ):\n",
    "\n",
    "    __a)__ Usando uma linha de lambda/4 de comprimento de onda\n",
    "\n",
    "    __b)__ Usando 3 secções de uma linha de lamba/4 de comprimento de onda*\n",
    "\n",
    "    __c)__ Simule e compare os resultados obtidos no ADS.\n",
    "\n",
    "2. Repita a alinha a), mas agora com uma carga de $(50+100j)  \\Omega $\n",
    ">Ver pp __244-250__ do livro \"Microwave Engineering - Third Edition\"\n",
    ">\n",
    ">Nota: Nas simulações use as seguintes características para o laminado GIL Technologies GML-1000:\n",
    ">\n",
    ">$H = 0.762$ \n",
    ">\n",
    ">$E = 3.2$\n",
    ">\n",
    ">$tan_d = 0.003$"
   ]
  },
  {
   "cell_type": "code",
   "execution_count": 11,
   "metadata": {},
   "outputs": [
    {
     "name": "stdout",
     "output_type": "stream",
     "text": [
      "Z_line = 100.0\n",
      "Wavlen = 0.150000\n"
     ]
    }
   ],
   "source": [
    "import numpy as np\n",
    "\n",
    "c = 3e8 #light speed\n",
    "f = 2e9 #2GHz Operating frequency\n",
    "\n",
    "Z_0 = 50 #Characteristic impedance of line\n",
    "R_L = 200 #Load impedance\n",
    "Z_line = np.sqrt(Z_0*R_L)#impedance od microstrip  line\n",
    "e_r = 3.2\n",
    "wavlen = c/f\n",
    "print(f'Z_line = {Z_line}')\n",
    "print(f'Wavlen = {wavlen:.6f}')\n"
   ]
  },
  {
   "cell_type": "code",
   "execution_count": null,
   "metadata": {},
   "outputs": [],
   "source": []
  },
  {
   "cell_type": "code",
   "execution_count": 12,
   "metadata": {},
   "outputs": [
    {
     "name": "stdout",
     "output_type": "stream",
     "text": [
      "0.000478296\n"
     ]
    }
   ],
   "source": [
    "\n",
    "#FROM  ADS LINECALC\n",
    "#-----\n",
    "W = 0.478296e-3 #width \n",
    "L = 24.4293e-3 #Lenght\n",
    "#-----\n",
    "K_eff = 2.53\n",
    "A_DB = 0.017\n",
    "#-----\n",
    "\n"
   ]
  }
 ],
 "metadata": {
  "kernelspec": {
   "display_name": "Python 3.8.10 64-bit",
   "language": "python",
   "name": "python3"
  },
  "language_info": {
   "codemirror_mode": {
    "name": "ipython",
    "version": 3
   },
   "file_extension": ".py",
   "mimetype": "text/x-python",
   "name": "python",
   "nbconvert_exporter": "python",
   "pygments_lexer": "ipython3",
   "version": "3.8.10"
  },
  "orig_nbformat": 4,
  "vscode": {
   "interpreter": {
    "hash": "31f2aee4e71d21fbe5cf8b01ff0e069b9275f58929596ceb00d14d90e3e16cd6"
   }
  }
 },
 "nbformat": 4,
 "nbformat_minor": 2
}
