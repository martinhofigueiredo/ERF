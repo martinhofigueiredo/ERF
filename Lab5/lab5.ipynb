{
 "cells": [
  {
   "cell_type": "markdown",
   "metadata": {},
   "source": [
    "# Laboratorio ERF\n",
    "\n",
    ">Trabalho Prático n.º 5\n",
    "\n",
    "## Projecto de um filtro passa-banda\n",
    "\n",
    "1. Projecte um filtro passa-banda com as seguintes características:\n",
    "    - Impedância característica $Z_0=50 \\Omega$.\n",
    "    - Banda $L$ ou $S$ (com largura de banda inferior a 20%).\n",
    "    - $20\\ dB$ de atenuação a 15% da frequência central $f_c$.\n",
    "    - Perdas por inserção inferiores a $3\\ dB$.\n",
    "\n",
    "> Laminado: Rogers, RO4003C ($H=0.508mm$,$εr=3.55$, $tan_D=0.0021$)\n",
    "\n"
   ]
  },
  {
   "cell_type": "markdown",
   "metadata": {},
   "source": [
    "a) Escolha um tipo de filtro (equal-ripple, maximally flat ou maximally flat time delay) justificando com uma possível aplicação prática para o filtro projectado."
   ]
  },
  {
   "cell_type": "markdown",
   "metadata": {},
   "source": [
    "\n",
    "> IEEE Convention\n",
    ">\n",
    "> - $L$ band - $[1,2[\\ Ghz$\n",
    ">\n",
    "> - $S$ band - $[2,4[\\ Ghz$\n",
    "\n",
    " - S band is where wifi 2.4 Operates\n",
    "\n",
    "Para ter um objectivo pratico vamos tentar criar um filtro para wifi 2.4ghz\n",
    "\n"
   ]
  },
  {
   "cell_type": "code",
   "execution_count": null,
   "metadata": {},
   "outputs": [],
   "source": [
    "%pip install scikit-rf\n",
    "%pip install matplotlib"
   ]
  },
  {
   "cell_type": "code",
   "execution_count": 3,
   "metadata": {},
   "outputs": [
    {
     "name": "stderr",
     "output_type": "stream",
     "text": [
      "Matplotlib is building the font cache; this may take a moment.\n"
     ]
    }
   ],
   "source": [
    "import numpy as np  # for np.allclose() to check that S-params are similar\n",
    "import skrf as rf\n",
    "rf.stylely()"
   ]
  },
  {
   "cell_type": "code",
   "execution_count": 42,
   "metadata": {},
   "outputs": [
    {
     "data": {
      "text/markdown": [
       "$temp = 2.49e+00\\ Hz$"
      ],
      "text/plain": [
       "<IPython.core.display.Markdown object>"
      ]
     },
     "metadata": {},
     "output_type": "display_data"
    },
    {
     "data": {
      "text/markdown": [
       "$f_l = 2.16e+06\\ Hz\\omega_l = 1.36e+07\\ rad/s$"
      ],
      "text/plain": [
       "<IPython.core.display.Markdown object>"
      ]
     },
     "metadata": {},
     "output_type": "display_data"
    },
    {
     "data": {
      "text/markdown": [
       "$f_r = 2.64e+06\\ Hz\\omega_r = 1.66e+07\\ rad/s$"
      ],
      "text/plain": [
       "<IPython.core.display.Markdown object>"
      ]
     },
     "metadata": {},
     "output_type": "display_data"
    }
   ],
   "source": [
    "## VARIABLES\n",
    "from IPython.display import display, Markdown, Latex\n",
    "\n",
    "\n",
    "z0 = 50 # Impedancia Caracteristicas\n",
    "H = 0.508e-3 #(m) Altura do material\n",
    "e_r = 3.55 # Permissividade \n",
    "tan_D = 0.0021 # \n",
    "bwpercent = 0.2 \n",
    "\n",
    "f_c =  2.4e6 # Hz \n",
    "\n",
    "SIM_Steps = 10000\n",
    "\n",
    "f_l = (1 - bwpercent/2) * f_c\n",
    "f_r = (1 + bwpercent/2) * f_c\n",
    "\n",
    "w_l= 2*np.pi*f_l\n",
    "w_r= 2*np.pi*f_r\n",
    "\n",
    "\n",
    "temp = 1 / (bwpercent*((f_l/f_c)+(f_c/f_l)))\n",
    "\n",
    "display(Markdown(f\"$temp = {temp:.2e}\\ Hz$\"))\n",
    "\n",
    "display(Markdown(f\"$f_l = {f_l:.2e}\\ Hz\"+f\"\\omega_l = {w_l:.2e}\\ rad/s$\"))\n",
    "display(Markdown(f\"$f_r = {f_r:.2e}\\ Hz\"+f\"\\omega_r = {w_r:.2e}\\ rad/s$\"))\n"
   ]
  },
  {
   "cell_type": "markdown",
   "metadata": {},
   "source": [
    "$$ \\left\\lvert\\frac{w}{w_c}\\right\\rvert - 1 = 0.1N ,\\ N = 7\\ e\\ w_c = 2\\cdot\\pi\\cdot\\ 2\\ GHz$$\n",
    "\n",
    "$$ \\frac{w}{2\\cdot\\pi\\cdot\\ 2\\ GHz} = 0.7 + 1 $$\n",
    "\n",
    "$$ w = 3.4\\ GHz$$ "
   ]
  },
  {
   "cell_type": "markdown",
   "metadata": {},
   "source": [
    "b) Projecte e simule um protótipo do filtro usando elementos discretos\n",
    "(condensadores e bobines).\n"
   ]
  },
  {
   "cell_type": "code",
   "execution_count": 20,
   "metadata": {},
   "outputs": [
    {
     "name": "stderr",
     "output_type": "stream",
     "text": [
      "/home/martinhofigueiredo/.local/lib/python3.10/site-packages/skrf/media/media.py:620: RuntimeWarning: divide by zero encountered in divide\n",
      "  y[:, 0, 0] = 1.0 / (1j * w * L)\n",
      "/home/martinhofigueiredo/.local/lib/python3.10/site-packages/skrf/media/media.py:620: RuntimeWarning: invalid value encountered in divide\n",
      "  y[:, 0, 0] = 1.0 / (1j * w * L)\n",
      "/home/martinhofigueiredo/.local/lib/python3.10/site-packages/skrf/media/media.py:621: RuntimeWarning: divide by zero encountered in divide\n",
      "  y[:, 1, 1] = 1.0 / (1j * w * L)\n",
      "/home/martinhofigueiredo/.local/lib/python3.10/site-packages/skrf/media/media.py:621: RuntimeWarning: invalid value encountered in divide\n",
      "  y[:, 1, 1] = 1.0 / (1j * w * L)\n",
      "/home/martinhofigueiredo/.local/lib/python3.10/site-packages/skrf/media/media.py:622: RuntimeWarning: divide by zero encountered in divide\n",
      "  y[:, 0, 1] = -1.0 / (1j * w * L)\n",
      "/home/martinhofigueiredo/.local/lib/python3.10/site-packages/skrf/media/media.py:622: RuntimeWarning: invalid value encountered in divide\n",
      "  y[:, 0, 1] = -1.0 / (1j * w * L)\n",
      "/home/martinhofigueiredo/.local/lib/python3.10/site-packages/skrf/media/media.py:623: RuntimeWarning: divide by zero encountered in divide\n",
      "  y[:, 1, 0] = -1.0 / (1j * w * L)\n",
      "/home/martinhofigueiredo/.local/lib/python3.10/site-packages/skrf/media/media.py:623: RuntimeWarning: invalid value encountered in divide\n",
      "  y[:, 1, 0] = -1.0 / (1j * w * L)\n",
      "/home/martinhofigueiredo/.local/lib/python3.10/site-packages/skrf/network.py:6152: RuntimeWarning: invalid value encountered in matmul\n",
      "  s = mf.rsolve(F @ (Id + G @ y), F @ (Id - npy.conjugate(G) @ y))\n",
      "/home/martinhofigueiredo/.local/lib/python3.10/site-packages/skrf/network.py:5346: RuntimeWarning: invalid value encountered in divide\n",
      "  (A[:, k, j] * A[:, i, l] * (1 - A[:, l, k]) + \\\n"
     ]
    }
   ],
   "source": [
    "# scikit-rf: the filter by cascading all lumped-elements\n",
    "freq = rf.Frequency(0,2*f_c,SIM_Steps,'ghz')\n",
    "line = rf.media.DefinedGammaZ0(frequency=freq, z0=z0)\n",
    "passband_manual = line.shunt_capacitor(25.406e-12) ** line.shunt_inductor(4.154e-9) ** \\\n",
    "                  line.capacitor(2.419e-12) ** line.inductor(43.636e-9) ** \\\n",
    "                  line.shunt_capacitor(25.406e-12) ** line.shunt_inductor(4.154e-9)"
   ]
  },
  {
   "cell_type": "code",
   "execution_count": 21,
   "metadata": {},
   "outputs": [],
   "source": [
    "# scikit-rf: the filter with the Circuit builder\n",
    "\n",
    "line = rf.media.DefinedGammaZ0(frequency=freq)\n",
    "C1 = line.capacitor(25.406e-12, name='C1')\n",
    "C2 = line.capacitor(2.419e-12, name='C2')\n",
    "C3 = line.capacitor(25.406e-12, name='C3')\n",
    "L1 = line.inductor(4.154e-9, name='L1')\n",
    "L2 = line.inductor(43.636e-9, name='L2')\n",
    "L3 = line.inductor(4.154e-9, name='L3')\n",
    "port1 = rf.Circuit.Port(frequency=freq, name='port1', z0=50)\n",
    "port2 = rf.Circuit.Port(frequency=freq, name='port2', z0=50)\n",
    "ground =  rf.Circuit.Ground(frequency=freq, name='ground', z0=50)\n",
    "\n",
    "connections = [\n",
    "    [(port1, 0), (C1, 0), (L1, 0), (C2, 0)],\n",
    "    [(C2, 1), (L2, 0)],\n",
    "    [(L2, 1), (C3, 0), (L3, 0), (port2, 0)],\n",
    "    [(C1, 1), (C3, 1), (L1, 1), (L3, 1), (ground, 0)],\n",
    "]\n",
    "\n",
    "circuit = rf.Circuit(connections)\n",
    "passband_circuit = circuit.network\n",
    "passband_circuit.name = 'Pass-band circuit'"
   ]
  },
  {
   "cell_type": "code",
   "execution_count": 22,
   "metadata": {},
   "outputs": [
    {
     "data": {
      "image/png": "[encoded data removed]",
      "text/plain": [
       "<Figure size 720x480 with 1 Axes>"
      ]
     },
     "metadata": {},
     "output_type": "display_data"
    }
   ],
   "source": [
    "passband_manual.plot_s_db(m=0, n=0, lw=2)\n",
    "passband_manual.plot_s_db(m=1, n=0, lw=2)"
   ]
  },
  {
   "cell_type": "markdown",
   "metadata": {},
   "source": [
    "c) Projecte e simule o filtro usando uma implementação em microstrip coupled lines.\n"
   ]
  },
  {
   "cell_type": "markdown",
   "metadata": {},
   "source": [
    "\n",
    "d) Faça uma implementação final do filtro e sua optimização usando uma\n",
    "implementação em hairpin.\n"
   ]
  },
  {
   "cell_type": "markdown",
   "metadata": {},
   "source": [
    "\n",
    "e) Faça a simulação electromagnética do layout do filtro e compare os resultados\n",
    "obtidos.\n",
    "Nota: Ver livros “Microwave Engineering”, David M. Pozar e “HF Filter Design and\n",
    "Computer Simulation”, Randall W. Rhea."
   ]
  }
 ],
 "metadata": {
  "kernelspec": {
   "display_name": "Python 3.10.6 64-bit",
   "language": "python",
   "name": "python3"
  },
  "language_info": {
   "codemirror_mode": {
    "name": "ipython",
    "version": 3
   },
   "file_extension": ".py",
   "mimetype": "text/x-python",
   "name": "python",
   "nbconvert_exporter": "python",
   "pygments_lexer": "ipython3",
   "version": "3.10.6"
  },
  "orig_nbformat": 4,
  "vscode": {
   "interpreter": {
    "hash": "916dbcbb3f70747c44a77c7bcd40155683ae19c65e1c03b4aa3499c5328201f1"
   }
  }
 },
 "nbformat": 4,
 "nbformat_minor": 2
}
