{
 "cells": [
  {
   "cell_type": "markdown",
   "metadata": {},
   "source": [
    "# Laboratorio ERF\n",
    "\n",
    ">Trabalho Prático n.º 5\n",
    "\n",
    "## Projecto de um filtro passa-banda\n",
    "\n",
    "1. Projecte um filtro passa-banda com as seguintes características:\n",
    "    - Impedância característica $Z_0=50 \\Omega$.\n",
    "    - Banda $L$ ou $S$ (com largura de banda inferior a 20%).\n",
    "    - $20\\ dB$ de atenuação a 15% da frequência central $f_c$.\n",
    "    - Perdas por inserção inferiores a $3\\ dB$.\n",
    "\n",
    "> Laminado: Rogers, RO4003C ($H=0.508mm$,$εr=3.55$, $tan_D=0.0021$)\n",
    "\n"
   ]
  },
  {
   "cell_type": "markdown",
   "metadata": {},
   "source": [
    "a) Escolha um tipo de filtro (equal-ripple, maximally flat ou maximally flat time delay) justificando com uma possível aplicação prática para o filtro projectado."
   ]
  },
  {
   "cell_type": "markdown",
   "metadata": {},
   "source": [
    "\n",
    "> IEEE Convention\n",
    ">\n",
    "> - $L$ band - $[1,2[\\ Ghz$\n",
    ">\n",
    "> - $S$ band - $[2,4[\\ Ghz$\n",
    " \n",
    "\n",
    "A banda S contém o espectro do sinal de Wifi, por isso para ter um objectivo pratico, vamos tentar criar um filtro para wifi 2.4ghz.\n",
    "\n",
    "Como queremos uma atenuação de 20Db\n",
    "\n"
   ]
  },
  {
   "cell_type": "code",
   "execution_count": 15,
   "metadata": {},
   "outputs": [
    {
     "name": "stdout",
     "output_type": "stream",
     "text": [
      "Defaulting to user installation because normal site-packages is not writeable\n",
      "Requirement already satisfied: scikit-rf in /home/martinhofigueiredo/.local/lib/python3.10/site-packages (0.24.1)\n",
      "Requirement already satisfied: numpy~=1.21 in /home/martinhofigueiredo/.local/lib/python3.10/site-packages (from scikit-rf) (1.23.3)\n",
      "Requirement already satisfied: scipy~=1.7 in /home/martinhofigueiredo/.local/lib/python3.10/site-packages (from scikit-rf) (1.9.3)\n",
      "Requirement already satisfied: pandas~=1.1 in /home/martinhofigueiredo/.local/lib/python3.10/site-packages (from scikit-rf) (1.5.1)\n",
      "Requirement already satisfied: python-dateutil>=2.8.1 in /home/martinhofigueiredo/.local/lib/python3.10/site-packages (from pandas~=1.1->scikit-rf) (2.8.2)\n",
      "Requirement already satisfied: pytz>=2020.1 in /home/martinhofigueiredo/.local/lib/python3.10/site-packages (from pandas~=1.1->scikit-rf) (2022.5)\n",
      "Requirement already satisfied: six>=1.5 in /home/martinhofigueiredo/.local/lib/python3.10/site-packages (from python-dateutil>=2.8.1->pandas~=1.1->scikit-rf) (1.16.0)\n",
      "Note: you may need to restart the kernel to use updated packages.\n",
      "Defaulting to user installation because normal site-packages is not writeable\n",
      "Requirement already satisfied: matplotlib in /home/martinhofigueiredo/.local/lib/python3.10/site-packages (3.6.2)\n",
      "Requirement already satisfied: fonttools>=4.22.0 in /home/martinhofigueiredo/.local/lib/python3.10/site-packages (from matplotlib) (4.38.0)\n",
      "Requirement already satisfied: kiwisolver>=1.0.1 in /home/martinhofigueiredo/.local/lib/python3.10/site-packages (from matplotlib) (1.4.4)\n",
      "Requirement already satisfied: numpy>=1.19 in /home/martinhofigueiredo/.local/lib/python3.10/site-packages (from matplotlib) (1.23.3)\n",
      "Requirement already satisfied: python-dateutil>=2.7 in /home/martinhofigueiredo/.local/lib/python3.10/site-packages (from matplotlib) (2.8.2)\n",
      "Requirement already satisfied: pillow>=6.2.0 in /usr/lib/python3/dist-packages (from matplotlib) (9.0.1)\n",
      "Requirement already satisfied: contourpy>=1.0.1 in /home/martinhofigueiredo/.local/lib/python3.10/site-packages (from matplotlib) (1.0.6)\n",
      "Requirement already satisfied: packaging>=20.0 in /home/martinhofigueiredo/.local/lib/python3.10/site-packages (from matplotlib) (21.3)\n",
      "Requirement already satisfied: cycler>=0.10 in /home/martinhofigueiredo/.local/lib/python3.10/site-packages (from matplotlib) (0.11.0)\n",
      "Requirement already satisfied: pyparsing>=2.2.1 in /home/martinhofigueiredo/.local/lib/python3.10/site-packages (from matplotlib) (3.0.9)\n",
      "Requirement already satisfied: six>=1.5 in /home/martinhofigueiredo/.local/lib/python3.10/site-packages (from python-dateutil>=2.7->matplotlib) (1.16.0)\n",
      "Note: you may need to restart the kernel to use updated packages.\n",
      "Defaulting to user installation because normal site-packages is not writeable\n",
      "Collecting networkx\n",
      "  Downloading networkx-2.8.8-py3-none-any.whl (2.0 MB)\n",
      "\u001b[2K     \u001b[38;2;114;156;31m━━━━━━━━━━━━━━━━━━━━━━━━━━━━━━━━━━━━━━━━\u001b[0m \u001b[32m2.0/2.0 MB\u001b[0m \u001b[31m6.2 MB/s\u001b[0m eta \u001b[36m0:00:00\u001b[0mm eta \u001b[36m0:00:01\u001b[0m0:01\u001b[0m:01\u001b[0m\n",
      "\u001b[?25hInstalling collected packages: networkx\n",
      "Successfully installed networkx-2.8.8\n",
      "Note: you may need to restart the kernel to use updated packages.\n"
     ]
    }
   ],
   "source": [
    "%pip install scikit-rf\n",
    "%pip install matplotlib\n",
    "%pip install networkx"
   ]
  },
  {
   "cell_type": "code",
   "execution_count": 4,
   "metadata": {},
   "outputs": [],
   "source": [
    "import numpy as np  # for np.allclose() to check that S-params are similar\n",
    "import skrf as rf\n",
    "rf.stylely()"
   ]
  },
  {
   "cell_type": "code",
   "execution_count": 5,
   "metadata": {},
   "outputs": [],
   "source": [
    "## VARIABLES\n",
    "from IPython.display import display, Markdown, Latex\n",
    "\n",
    "z0 = 50 # Impedancia Caracteristicas\n",
    "H = 0.508e-3 #(m) Altura do material\n",
    "e_r = 3.55 # Permissividade \n",
    "tan_D = 0.0021 # \n",
    "\n",
    "bwpercent = 0.2 \n",
    "\n",
    "bwmax = ((4e9-2e9)*0.2)\n",
    "SIM_Steps = 10000\n",
    "\n",
    "f_c =  2.4e9 # Hz \n",
    "\n",
    "\n",
    "\n",
    "f_l = (1 - bwpercent/2) * f_c\n",
    "f_r = (1 + bwpercent/2) * f_c\n",
    "\n",
    "w_l= 2*np.pi*f_l\n",
    "w_r= 2*np.pi*f_r\n",
    "w_c= 2*np.pi*f_c\n",
    "\n",
    "w_0 = np.sqrt(w_l*w_r)\n",
    "\n",
    "temp = 1 / (bwpercent*((f_l/f_c)+(f_c/f_l)))\n"
   ]
  },
  {
   "cell_type": "code",
   "execution_count": 7,
   "metadata": {},
   "outputs": [
    {
     "data": {
      "text/markdown": [
       "$temp = 2.486\\ $"
      ],
      "text/plain": [
       "<IPython.core.display.Markdown object>"
      ]
     },
     "metadata": {},
     "output_type": "display_data"
    },
    {
     "data": {
      "text/markdown": [
       "- Largura de Banda Maxima -> $bw_{max} = 4.00e+08\\ Hz $"
      ],
      "text/plain": [
       "<IPython.core.display.Markdown object>"
      ]
     },
     "metadata": {},
     "output_type": "display_data"
    },
    {
     "data": {
      "text/markdown": [
       "- Frequencia central -> $f_c = 2.40e+09\\ Hz $"
      ],
      "text/plain": [
       "<IPython.core.display.Markdown object>"
      ]
     },
     "metadata": {},
     "output_type": "display_data"
    },
    {
     "data": {
      "text/markdown": [
       "- Frequencia angular central (media geometrica)-> $w_0 = 1.50e+10\\ rad/s$"
      ],
      "text/plain": [
       "<IPython.core.display.Markdown object>"
      ]
     },
     "metadata": {},
     "output_type": "display_data"
    },
    {
     "data": {
      "text/markdown": [
       "- Frequencia angular central (media aritmetica)-> $w_c = 1.51e+10\\ rad/s$"
      ],
      "text/plain": [
       "<IPython.core.display.Markdown object>"
      ]
     },
     "metadata": {},
     "output_type": "display_data"
    },
    {
     "data": {
      "text/markdown": [
       "- Frequencia de corte $f_{c1} = 2.16e+09\\ Hz $"
      ],
      "text/plain": [
       "<IPython.core.display.Markdown object>"
      ]
     },
     "metadata": {},
     "output_type": "display_data"
    },
    {
     "data": {
      "text/markdown": [
       "- Frequencia de corte $f_{c2} = 2.64e+09\\ Hz $"
      ],
      "text/plain": [
       "<IPython.core.display.Markdown object>"
      ]
     },
     "metadata": {},
     "output_type": "display_data"
    },
    {
     "data": {
      "text/markdown": [
       "- Frequencia de angular corte $f_{c1} = 1.36e+10\\ rad/s$"
      ],
      "text/plain": [
       "<IPython.core.display.Markdown object>"
      ]
     },
     "metadata": {},
     "output_type": "display_data"
    },
    {
     "data": {
      "text/markdown": [
       "- Frequencia de angular corte $f_{c2} = 1.66e+10\\ rad/s$"
      ],
      "text/plain": [
       "<IPython.core.display.Markdown object>"
      ]
     },
     "metadata": {},
     "output_type": "display_data"
    }
   ],
   "source": [
    "\n",
    "display(Markdown(f\"$temp = {temp:.4}\\ $\"))\n",
    "display(Markdown(f\"- Largura de Banda Maxima -> $bw_{{max}} = {bwmax:.2e}\\ Hz $\"))\n",
    "display(Markdown(f\"- Frequencia central -> $f_c = {f_c:.2e}\\ Hz $\"))\n",
    "display(Markdown(f\"- Frequencia angular central (media geometrica)-> $w_0 = {w_0:.2e}\\ rad/s$\"))\n",
    "display(Markdown(f\"- Frequencia angular central (media aritmetica)-> $w_c = {w_c:.2e}\\ rad/s$\"))\n",
    "display(Markdown(f\"- Frequencia de corte $f_{{c1}} = {f_l:.2e}\\ Hz $\"))\n",
    "display(Markdown(f\"- Frequencia de corte $f_{{c2}} = {f_r:.2e}\\ Hz $\"))\n",
    "display(Markdown(f\"- Frequencia de angular corte $f_{{c1}} = {w_l:.2e}\\ rad/s$\"))\n",
    "display(Markdown(f\"- Frequencia de angular corte $f_{{c2}} = {w_r:.2e}\\ rad/s$\"))\n"
   ]
  },
  {
   "cell_type": "markdown",
   "metadata": {},
   "source": [
    "b) Projecte e simule um protótipo do filtro usando elementos discretos\n",
    "(condensadores e bobines).\n"
   ]
  },
  {
   "cell_type": "code",
   "execution_count": 17,
   "metadata": {},
   "outputs": [
    {
     "data": {
      "text/plain": [
       "<networkx.classes.graph.Graph at 0x7f7caa8d9810>"
      ]
     },
     "execution_count": 17,
     "metadata": {},
     "output_type": "execute_result"
    }
   ],
   "source": [
    "# scikit-rf: the filter by cascading all lumped-elements\n",
    "freq = rf.Frequency(0,4,SIM_Steps,'ghz')\n",
    "line = rf.media.DefinedGammaZ0(frequency=freq, z0=z0)\n",
    "\n",
    "# scikit-rf: the filter with the Circuit builder\n",
    "\n",
    "line = rf.media.DefinedGammaZ0(frequency=freq)\n",
    "C1 = line.capacitor(11.31e-12, name='C1')\n",
    "C2 = line.capacitor(217.9e-15, name='C2')\n",
    "C3 = line.capacitor(16.85e-12, name='C3')\n",
    "C4 = line.capacitor(217.9e-12, name='C4')\n",
    "C5 = line.capacitor(11.31e-12, name='C5')\n",
    "L1 = line.inductor(392.7e-12, name='L1')\n",
    "L2 = line.inductor(20.39e-9, name='L2')\n",
    "L3 = line.inductor(263.6e-12, name='L3')\n",
    "L4 = line.inductor(20.396e-9, name='L5')\n",
    "L5 = line.inductor(392.7e-12, name='L5')\n",
    "port1 = rf.Circuit.Port(frequency=freq, name='port1', z0=z0)\n",
    "port2 = rf.Circuit.Port(frequency=freq, name='port2', z0=z0)\n",
    "ground =  rf.Circuit.Ground(frequency=freq, name='ground', z0=z0)\n",
    "\n",
    "connections = [\n",
    "    [(port1, 0), (C1, 0), (L1, 0), (C2, 0)],\n",
    "    [(C2, 1), (L2, 0)],\n",
    "    [(L2, 1), (C3, 0), (L3, 0), (port2, 0)],\n",
    "    [(C1, 1), (C3, 1), (L1, 1), (L3, 1), (ground, 0)],\n",
    "]\n",
    "\n",
    "circuit = rf.Circuit(connections)\n",
    "\n",
    "circuit.graph()\n"
   ]
  },
  {
   "cell_type": "code",
   "execution_count": 18,
   "metadata": {},
   "outputs": [
    {
     "data": {
      "image/png": "[encoded data removed]",
      "text/plain": [
       "<Figure size 720x480 with 1 Axes>"
      ]
     },
     "metadata": {},
     "output_type": "display_data"
    }
   ],
   "source": [
    "\n",
    "passband_circuit = circuit.network\n",
    "passband_circuit.name = 'Pass-band circuit'\n",
    "\n",
    "passband_circuit.plot_s_db(m=0, n=0, lw=2)\n",
    "passband_circuit.plot_s_db(m=1, n=0, lw=2)"
   ]
  },
  {
   "cell_type": "markdown",
   "metadata": {},
   "source": [
    "c) Projecte e simule o filtro usando uma implementação em microstrip coupled lines.\n"
   ]
  },
  {
   "cell_type": "markdown",
   "metadata": {},
   "source": [
    "\n",
    "d) Faça uma implementação final do filtro e sua optimização usando uma\n",
    "implementação em hairpin.\n"
   ]
  },
  {
   "cell_type": "markdown",
   "metadata": {},
   "source": [
    "\n",
    "e) Faça a simulação electromagnética do layout do filtro e compare os resultados\n",
    "obtidos.\n",
    "Nota: Ver livros “Microwave Engineering”, David M. Pozar e “HF Filter Design and\n",
    "Computer Simulation”, Randall W. Rhea."
   ]
  }
 ],
 "metadata": {
  "kernelspec": {
   "display_name": "Python 3.10.6 64-bit",
   "language": "python",
   "name": "python3"
  },
  "language_info": {
   "codemirror_mode": {
    "name": "ipython",
    "version": 3
   },
   "file_extension": ".py",
   "mimetype": "text/x-python",
   "name": "python",
   "nbconvert_exporter": "python",
   "pygments_lexer": "ipython3",
   "version": "3.10.6"
  },
  "orig_nbformat": 4,
  "vscode": {
   "interpreter": {
    "hash": "916dbcbb3f70747c44a77c7bcd40155683ae19c65e1c03b4aa3499c5328201f1"
   }
  }
 },
 "nbformat": 4,
 "nbformat_minor": 2
}
