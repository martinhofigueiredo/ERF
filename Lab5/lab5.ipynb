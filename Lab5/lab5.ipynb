{
 "cells": [
  {
   "cell_type": "markdown",
   "metadata": {},
   "source": [
    "# Laboratorio ERF \n",
    "\n",
    ">Trabalho Prático n.º 5\n",
    ">Martinho Figueiredo up201506179\n",
    ">José Pedro Cruz up201504646\n",
    "\n",
    "## Projecto de um filtro passa-banda\n",
    "\n",
    ">[!question]1. Projecte um filtro passa-banda com as seguintes características:\n",
    ">- Impedância característica $Z_0=50 \\Omega$.\n",
    ">- Banda $L$ ou $S$ (com largura de banda inferior a 20%).\n",
    ">- $20\\ dB$ de atenuação a 15% da frequência central $f_c$.\n",
    ">- Perdas por inserção inferiores a $3\\ dB$.\n",
    ">- __Laminado__: Rogers, RO4003C ($H=0.508mm$,$\\epsilon_r=3.55$, $tan_D=0.0021$)\n"
   ]
  },
  {
   "cell_type": "markdown",
   "metadata": {},
   "source": [
    ">[!question]a) Escolha um tipo de filtro (equal-ripple, maximally flat ou maximally flat time delay) justificando com uma possível aplicação prática para o filtro projectado.\n",
    "\n",
    "A banda S contém o espectro do sinal de Wifi, por isso para ter um objectivo pratico, vamos tentar criar um filtro para wifi 2.4ghz.\n",
    "entre 2.4 ghz e 2.835ghz que engloba o standart 802.11 do IEE, para um total de largura de banda de 16,62%\n",
    "\n",
    "Para o tipo de codificação digital do wifi, o filtro ideal seria um filtro de Bessel-Thompson, pois este filtro tem um um time delay constante significando que todas as frequencias que compoem o sinal digital que pretendemos que passe pelo nosso filtro nao sofram de atrasos, o que nao acontece com os outros filtros. Esta vantagem tem como reverso da medelha um declive muito lento na zona de corte o que nos impediu de calcular um filtro que cumprisse o requesito de 20dB de atenuação a 15% da banda central. Deparados com esta dificuldade e depois de consultar alguns livros, decidimos projectar um filtro de ordem 3 de Tchebysheb, que cumpre todos os requesitos no entanto apresenta um ripple na banda passante."
   ]
  },
  {
   "cell_type": "code",
   "execution_count": null,
   "metadata": {},
   "outputs": [],
   "source": [
    "%pip install scikit-rf\n",
    "%pip install matplotlib\n",
    "%pip install networkx\n",
    "%pip install control\n"
   ]
  },
  {
   "cell_type": "code",
   "execution_count": 2,
   "metadata": {},
   "outputs": [],
   "source": [
    "import skrf as rf\n",
    "import numpy as np  # for np.allclose() to check that S-params are similar\n",
    "import control\n",
    "from scipy import signal\n",
    "import matplotlib.pyplot as plt\n",
    "from IPython.display import display, Markdown, Latex\n",
    "\n",
    "%matplotlib inline\n",
    "rf.stylely()\n"
   ]
  },
  {
   "cell_type": "markdown",
   "metadata": {},
   "source": [
    "# Contexto Teorico\n",
    "\n",
    "> IEEE Convention\n",
    ">\n",
    "> - $L$ band - $[1,2[\\ Ghz$\n",
    ">\n",
    "> - $S$ band - $[2,4[\\ Ghz$\n",
    "\n",
    "\n",
    "## [S Band](https://en.wikipedia.org/wiki/S_band)\n",
    "\n",
    ">The S band is a designation by the Institute of Electrical and Electronics Engineers (IEEE) for a part of the microwave band of the electromagnetic spectrum covering frequencies from 2 to 4 gigahertz (GHz).\n",
    ">The S band also contains the 2.4–2.483 GHz ISM band, widely used for low power unlicensed microwave devices such as cordless phones, wireless headphones (Bluetooth), wireless networking (WiFi), garage door openers, keyless vehicle locks, baby monitors as well as for medical diathermy machines and microwave ovens (typically at 2.495 GHz).\n",
    "\n",
    "Given this quote from wikipedia we can see that the S Band is higly populated and since wifi routers working on this band are ubiquitous making it the perfect candidate for a pratical use of a filter the application should be rather easy.\n",
    "\n",
    "## [Wifi](https://en.wikipedia.org/wiki/List_of_WLAN_channels#2.4_GHz_(802.11b/g/n/ax))\n",
    "\n",
    "From this article we can se that the 802.11b/g/n/ax IEEE standard operates between 2.4 ghz and 2.5 ghz (2.835ghz exactly).\n",
    "We can use this to calculate the fraccionary band need for our filter.\n",
    "\n",
    "$$\n",
    "\n"
   ]
  },
  {
   "cell_type": "markdown",
   "metadata": {},
   "source": [
    "\n",
    "\n",
    "## [Bessel polynomials](https://en.wikipedia.org/wiki/Bessel_filter#Bessel_Polynomials)\n",
    "\n",
    "The transfer function of the Bessel filter is a rational function whose denominator is a reverse Bessel polynomial, such as the following:\n",
    "\n",
    "$n = 1: s + 1 $\n",
    "\n",
    "$n = 2: s^{2} + 3s + 3 $\n",
    "\n",
    "$n = 3: s^{3} + 6s^{2} + 15s + 15 $\n",
    "\n",
    "$n = 4: s^{4} + 10s^{3} + 45s^{2} + 3s + 3 $\n",
    "\n",
    "$n = 5: s^{5} + 15s^{4} + 105s^{3} + 420s^{2} + 945s + 945 $\n",
    "\n",
    "The reverse Bessel polynomials are given by:\n",
    "\n",
    "$$\\theta_{n}(s) = \\sum_{k=0}^{n}a_{k}s^{k},$$\n",
    "\n",
    "where\n",
    "\n",
    "$$a_{k}= \\frac{(2n-k)!}{2^{n-k}k!(n-k)!}\\ ,\\ k=0,1,...,n$$\n",
    "\n",
    "given this we will implement a function that `returns` a array with all coefficients from a desired order \n",
    "\n",
    "# Bessel Filter\n",
    "A Bessel low-pass filter is characterized by its transfer function:\n",
    "\n",
    "$$H(s)=\\frac{\\theta _{n}(0)}{\\theta _{n}(s/\\omega _{0})}$$\n",
    "\n",
    "where $\\theta _{n}(s)$ is a reverse Bessel polynomial from which the filter gets its name and $\\omega _{0}$ is a frequency chosen to give the desired cut-off frequency. The filter has a low-frequency group delay of $1/\\omega _{0}$. Since $\\theta _{n}(0)$ is indeterminate by the definition of reverse Bessel polynomials, but is a removable singularity, it is defined that $\\theta _{n}(0)=\\lim _{{x\\rightarrow 0}}\\theta _{n}(x)$. This corresponds to the numerator being the independent term in the Bessel polynomial."
   ]
  },
  {
   "cell_type": "code",
   "execution_count": 8,
   "metadata": {},
   "outputs": [],
   "source": [
    "\n",
    "import math\n",
    "\n",
    "\n",
    "def besselpoly(n: int):\n",
    "    if (n == 0):\n",
    "        display(Markdown(f\"$Order\\ must\\ be\\ bigger\\ than\\ 0,\\tn > 0$\"))\n",
    "        return 0\n",
    "    poly = []\n",
    "    string = []\n",
    "    theta = \"\"\n",
    "    for k in range(0, n+1):  # Account for iteration k=n\n",
    "        a_k = math.factorial(2*n - k) / (pow(2, (n-k)) *\n",
    "                                         math.factorial(k) * math.factorial(n-k))\n",
    "        poly.append(a_k)\n",
    "        string.append(f\" - ${k = },a_{k} = {a_k}$\")\n",
    "        aux = f'{a_k:.0f}'\n",
    "        if a_k == 1 and k != 0:\n",
    "            aux = ''\n",
    "        if k > 0:\n",
    "            if k == 1:\n",
    "                theta = (aux + 's + ' + theta)\n",
    "            else:\n",
    "                theta = (aux+'s^'+'{'+f'{k:.0f}'+'} + ' + theta)\n",
    "        else:\n",
    "            theta = ' ' + aux + theta\n",
    "    display(Markdown(f'${n = }\\ ,\\ {theta} $'))\n",
    "    # for line in string:\n",
    "    #    display(Markdown(line))\n",
    "    return poly\n"
   ]
  },
  {
   "cell_type": "code",
   "execution_count": 9,
   "metadata": {},
   "outputs": [
    {
     "data": {
      "text/markdown": [
       "$n = 3\\ ,\\ s^{3} + 6s^{2} + 15s +  15 $"
      ],
      "text/plain": [
       "<IPython.core.display.Markdown object>"
      ]
     },
     "metadata": {},
     "output_type": "display_data"
    },
    {
     "name": "stdout",
     "output_type": "stream",
     "text": [
      "\n",
      "              1\n",
      "-----------------------------\n",
      "0.06667 s^3 + 0.4 s^2 + s + 1\n",
      "\n"
     ]
    },
    {
     "data": {
      "image/png": "[encoded data removed]",
      "text/plain": [
       "<Figure size 720x480 with 2 Axes>"
      ]
     },
     "metadata": {},
     "output_type": "display_data"
    }
   ],
   "source": [
    "def besselfilter(n):\n",
    "    poly = besselpoly(n)\n",
    "\n",
    "    dividend = poly[0]\n",
    "    poly.reverse()\n",
    "    for k in range(len(poly)):\n",
    "        poly[k] = poly[k]/dividend\n",
    "    H = control.tf(1, poly)\n",
    "    print(H)\n",
    "    control.bode(H)\n",
    "besselfilter(3)\n"
   ]
  },
  {
   "cell_type": "code",
   "execution_count": 3,
   "metadata": {},
   "outputs": [],
   "source": [
    "\n",
    "z0 = 50  # Impedancia Caracteristicas\n",
    "H = 0.508e-3  # (m) Altura do material\n",
    "e_r = 3.55  # Permissividade\n",
    "tan_D = 0.0021\n",
    "\n",
    "\n",
    "wifimax = 2.835\n",
    "wifimin = 2.4\n",
    "wifigeocenter = np.sqrt(wifimax*wifimin)\n",
    "wifiaricenter = 0.5*(wifimax+wifimin)\n",
    "bwpercent = np.min([(wifimax-wifimin)/wifiaricenter, 0.2]) # a largura de banda tem que ser no maximo 20%\n",
    "\n",
    "\n",
    "bwmax = ((4e9-2e9)*0.2)\n",
    "SIM_Steps = 10000\n",
    "\n",
    "f_c = wifigeocenter  # Hz Frequencia centra para wifi 2.4\n",
    "\n",
    "\n",
    "f_l = (1 - bwpercent/2) * f_c\n",
    "f_r = (1 + bwpercent/2) * f_c\n",
    "\n",
    "w_l = 2*np.pi*f_l\n",
    "w_r = 2*np.pi*f_r\n",
    "w_c = 2*np.pi*f_c\n",
    "\n",
    "w_0 = np.sqrt(w_l*w_r)\n",
    "\n",
    "w_normalized = 1 / (bwpercent*((f_l/f_c)+(f_c/f_l)))\n"
   ]
  },
  {
   "cell_type": "code",
   "execution_count": 10,
   "metadata": {},
   "outputs": [
    {
     "data": {
      "text/markdown": [
       "- Frequencia de atenuaçao normalizada = $2.997\\ $"
      ],
      "text/plain": [
       "<IPython.core.display.Markdown object>"
      ]
     },
     "metadata": {},
     "output_type": "display_data"
    },
    {
     "data": {
      "text/markdown": [
       "- Largura de Banda Maxima -> $bw_{max} = 4.00e+08\\ Hz $"
      ],
      "text/plain": [
       "<IPython.core.display.Markdown object>"
      ]
     },
     "metadata": {},
     "output_type": "display_data"
    },
    {
     "data": {
      "text/markdown": [
       "- Largura de Banda fraccionária -> $bw_{\\%} = 16.62\\ \\% $"
      ],
      "text/plain": [
       "<IPython.core.display.Markdown object>"
      ]
     },
     "metadata": {},
     "output_type": "display_data"
    },
    {
     "data": {
      "text/markdown": [
       "- Frequencia central -> $f_c = 2.61e+00\\ Hz $"
      ],
      "text/plain": [
       "<IPython.core.display.Markdown object>"
      ]
     },
     "metadata": {},
     "output_type": "display_data"
    },
    {
     "data": {
      "text/markdown": [
       "- Frequencia angular central (media geometrica)-> $w_0 = 1.63e+01\\ rad/s$"
      ],
      "text/plain": [
       "<IPython.core.display.Markdown object>"
      ]
     },
     "metadata": {},
     "output_type": "display_data"
    },
    {
     "data": {
      "text/markdown": [
       "- Frequencia angular central (media aritmetica)-> $w_c = 1.64e+01\\ rad/s$"
      ],
      "text/plain": [
       "<IPython.core.display.Markdown object>"
      ]
     },
     "metadata": {},
     "output_type": "display_data"
    },
    {
     "data": {
      "text/markdown": [
       "- Frequencia de corte $f_{c1} = 2.39e+00\\ Hz $"
      ],
      "text/plain": [
       "<IPython.core.display.Markdown object>"
      ]
     },
     "metadata": {},
     "output_type": "display_data"
    },
    {
     "data": {
      "text/markdown": [
       "- Frequencia de corte $f_{c2} = 2.83e+00\\ Hz $"
      ],
      "text/plain": [
       "<IPython.core.display.Markdown object>"
      ]
     },
     "metadata": {},
     "output_type": "display_data"
    },
    {
     "data": {
      "text/markdown": [
       "- Frequencia de angular corte $f_{c1} = 1.50e+01\\ rad/s$"
      ],
      "text/plain": [
       "<IPython.core.display.Markdown object>"
      ]
     },
     "metadata": {},
     "output_type": "display_data"
    },
    {
     "data": {
      "text/markdown": [
       "- Frequencia de angular corte $f_{c2} = 1.78e+01\\ rad/s$"
      ],
      "text/plain": [
       "<IPython.core.display.Markdown object>"
      ]
     },
     "metadata": {},
     "output_type": "display_data"
    }
   ],
   "source": [
    "display(Markdown(f\"- Frequencia de atenuacao normalizada = ${w_normalized:.4}\\ $\"))\n",
    "display(Markdown(f\"- Largura de Banda Maxima -> $bw_{{max}} = {bwmax:.2e}\\ Hz $\"))\n",
    "display(Markdown(f\"- Largura de Banda fraccionaria -> $bw_{{\\%}} = {bwpercent*100:.2f}\\ \\% $\"))\n",
    "display(Markdown(f\"- Frequencia central -> $f_c = {f_c:.2e}\\ Hz $\"))\n",
    "display(Markdown(f\"- Frequencia angular central (media geometrica)-> $w_0 = {w_0:.2e}\\ rad/s$\"))\n",
    "display(Markdown(f\"- Frequencia angular central (media aritmetica)-> $w_c = {w_c:.2e}\\ rad/s$\"))\n",
    "display(Markdown(f\"- Frequencia de corte $f_{{c1}} = {f_l:.2e}\\ Hz $\"))\n",
    "display(Markdown(f\"- Frequencia de corte $f_{{c2}} = {f_r:.2e}\\ Hz $\"))\n",
    "display(Markdown(f\"- Frequencia de angular corte $f_{{c1}} = {w_l:.2e}\\ rad/s$\"))\n",
    "display(Markdown(f\"- Frequencia de angular corte $f_{{c2}} = {w_r:.2e}\\ rad/s$\"))"
   ]
  },
  {
   "cell_type": "markdown",
   "metadata": {},
   "source": [
    "b) Projecte e simule um protótipo do filtro usando elementos discretos\n",
    "(condensadores e bobines).\n"
   ]
  },
  {
   "cell_type": "markdown",
   "metadata": {},
   "source": [
    "![](readme_files/imag1.png)"
   ]
  },
  {
   "cell_type": "markdown",
   "metadata": {},
   "source": [
    "c) Projecte e simule o filtro usando uma implementação em microstrip coupled lines.\n"
   ]
  },
  {
   "cell_type": "markdown",
   "metadata": {},
   "source": [
    "![](readme_files/imag2.png)"
   ]
  },
  {
   "cell_type": "markdown",
   "metadata": {},
   "source": [
    "\n",
    "d) Faça uma implementação final do filtro e sua optimização usando uma\n",
    "implementação em hairpin.\n"
   ]
  },
  {
   "cell_type": "markdown",
   "metadata": {},
   "source": [
    "![](readme_files/hairpin.png)\n",
    "\n",
    "\n",
    "![](readme_files/ocb.png)\n"
   ]
  },
  {
   "cell_type": "markdown",
   "metadata": {},
   "source": [
    "\n",
    "e) Faça a simulação electromagnética do layout do filtro e compare os resultados\n",
    "obtidos.\n",
    "Nota: Ver livros “Microwave Engineering”, David M. Pozar e “HF Filter Design and\n",
    "Computer Simulation”, Randall W. Rhea."
   ]
  }
 ],
 "metadata": {
  "kernelspec": {
   "display_name": "Python 3.10.6 64-bit",
   "language": "python",
   "name": "python3"
  },
  "language_info": {
   "codemirror_mode": {
    "name": "ipython",
    "version": 3
   },
   "file_extension": ".py",
   "mimetype": "text/x-python",
   "name": "python",
   "nbconvert_exporter": "python",
   "pygments_lexer": "ipython3",
   "version": "3.10.6"
  },
  "orig_nbformat": 4,
  "vscode": {
   "interpreter": {
    "hash": "916dbcbb3f70747c44a77c7bcd40155683ae19c65e1c03b4aa3499c5328201f1"
   }
  }
 },
 "nbformat": 4,
 "nbformat_minor": 2
}
