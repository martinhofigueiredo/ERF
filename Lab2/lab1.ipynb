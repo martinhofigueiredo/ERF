{
 "cells": [
  {
   "cell_type": "markdown",
   "metadata": {},
   "source": [
    "# ERF Relatorio 19 Out\n",
    ">Martinho Figueiredo (up201506179)\n",
    ">\n",
    ">José Pedro Cruz (up201504646)"
   ]
  },
  {
   "cell_type": "markdown",
   "metadata": {},
   "source": [
    "## Abstrato\n",
    "\n",
    "Este trabalho tem como objetivo praticar o equilibrio de impedâncias entre a carga e a linha de forma da não existiram distorções no sinal."
   ]
  },
  {
   "cell_type": "markdown",
   "metadata": {},
   "source": [
    "# 1\n",
    "## a)\n",
    "\n",
    "Para tal posiciona-mos duas _microstrip lines_ ligadas entre a carga e a fonte e outra entre a fonte e o circuito em aberto, para simular o _open Stub_. Postreriormente dimensionamos ambas as _microstrip lines_ com auxlio da ferramenta de _Smith Chart_ para obter a impedância da linha e do stub que correspodem a zero distorção e zero perdas das linhas. Obtivemos duas soluções. A primeira com o caminho mais longo de stub e a segunda com o mais curto."
   ]
  },
  {
   "cell_type": "markdown",
   "metadata": {},
   "source": [
    "Stub Longo:\n",
    "![Análise Smtih Linha longo](Fotos/1.smith-linha.png)\n",
    "\n",
    "![Análise Smtih Stub longo](Fotos/1.smith-stub.png)\n",
    "\n",
    "Stub Curto:\n",
    "\n",
    "![Análise Smtih Linha curto](Fotos/1.2.smith-linha.png)\n",
    "\n",
    "![Análise Smtih Stub curto](Fotos/1.2.smith-stub.png)"
   ]
  },
  {
   "cell_type": "markdown",
   "metadata": {},
   "source": [
    "Para estas análises, com os valores que obtivemos em cima subtituímos na ferramente _LineCalc_ para obtermos os valores físicos das _Microstrip lines_. Segue abaixo as imagens correspondentes aos esquemáticos."
   ]
  },
  {
   "cell_type": "markdown",
   "metadata": {},
   "source": [
    "![Esquemático com Stub mais longo](Fotos/1.esquematico.png)\n",
    "\n",
    "![Esquemático com Stub mais longo](Fotos/1.2.esquematico.png)"
   ]
  },
  {
   "cell_type": "markdown",
   "metadata": {},
   "source": [
    "Após isto analisamos os gráficos para concluir a solução mais ótima. Concluimos que os coeficientes de reflexão de ambas as soluções são idênticos, obtendo aquilo que era esperado. Nas frequências de que não a de operação o coeficiente de reflexão situa-se perto de zero e na frequência de operação (2,4GHz) um pico negativo. A diferenção mais obervervável é na impedancia de entrada, que se encontra invertida nas duas imagens"
   ]
  },
  {
   "cell_type": "markdown",
   "metadata": {},
   "source": [
    "![Grafico Stub Longo](Fotos/1.grafico.png)\n",
    "\n",
    "![Grafico Stub Longo](Fotos/1.2.grafico.png)"
   ]
  },
  {
   "cell_type": "markdown",
   "metadata": {},
   "source": [
    "## b)  \n",
    "Executamos os mesmo passos anteriormente para acomodarmos dois stubs no nosso esquemático."
   ]
  },
  {
   "cell_type": "markdown",
   "metadata": {},
   "source": [
    "![Análise Smith](Fotos/1.b.smith.png)\n",
    "![Análise Smith 2](Fotos/1.b.2.smith.png)\n",
    "\n",
    "![Esquemático](Fotos/1.b.esquematico.png)\n",
    "![Esquemático 2](Fotos/1.b.2.esquematico.png)\n",
    "\n",
    "![Gráfico](Fotos/1.b.grafico.png)\n",
    "![Gráfico](Fotos/1.b.2.grafico.png)"
   ]
  }
 ],
 "metadata": {
  "kernelspec": {
   "display_name": "Python 3.8.10 64-bit",
   "language": "python",
   "name": "python3"
  },
  "language_info": {
   "codemirror_mode": {
    "name": "ipython",
    "version": 3
   },
   "file_extension": ".py",
   "mimetype": "text/x-python",
   "name": "python",
   "nbconvert_exporter": "python",
   "pygments_lexer": "ipython3",
   "version": "3.10.6"
  },
  "orig_nbformat": 4,
  "vscode": {
   "interpreter": {
    "hash": "31f2aee4e71d21fbe5cf8b01ff0e069b9275f58929596ceb00d14d90e3e16cd6"
   }
  }
 },
 "nbformat": 4,
 "nbformat_minor": 2
}
